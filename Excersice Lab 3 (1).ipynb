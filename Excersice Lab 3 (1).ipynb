{
 "cells": [
  {
   "cell_type": "markdown",
   "id": "eb30e1be-43dd-4524-85c4-8426a675149e",
   "metadata": {
    "id": "2Rd0p8RS0Ibp",
    "tags": []
   },
   "source": [
    "## Exercise"
   ]
  },
  {
   "cell_type": "markdown",
   "id": "71aa4cd7-6cee-49da-bd74-a5828d391161",
   "metadata": {
    "id": "ZfnoxULa0aeI"
   },
   "source": [
    "E1: Test whether none of the elements of a given array is zero\n",
    "\n",
    "[[1,0,2,np.nan],[2,5,0,np.inf]]"
   ]
  },
  {
   "cell_type": "code",
   "execution_count": 22,
   "id": "39cafd1f-f9e8-4c06-ac94-421f75465887",
   "metadata": {
    "executionInfo": {
     "elapsed": 135,
     "status": "ok",
     "timestamp": 1644199512781,
     "user": {
      "displayName": "Steven Ding",
      "photoUrl": "https://lh3.googleusercontent.com/a-/AOh14GjJ1wifoAlDie6EVH7FiNxOje0AIs0q1vkuL8x46w=s64",
      "userId": "05817880025136816974"
     },
     "user_tz": 300
    },
    "id": "PYNuLQ5t1Wjp"
   },
   "outputs": [
    {
     "name": "stdout",
     "output_type": "stream",
     "text": [
      "[[False  True False False]\n",
      " [False False  True False]]\n"
     ]
    }
   ],
   "source": [
    "# your code here\n",
    "import numpy as np\n",
    "\n",
    "x=np.array([[1,0,2,np.nan],[2,5,0,np.inf]])\n",
    "bool_idx=(x==0)\n",
    "print(bool_idx)"
   ]
  },
  {
   "cell_type": "markdown",
   "id": "a2ec0281-33ad-426f-ac42-bf1d5c926d8b",
   "metadata": {
    "id": "K5_u_14c1AVq"
   },
   "source": [
    "E2: Test a given array element-wise for finiteness (not infinity or not a Number)"
   ]
  },
  {
   "cell_type": "code",
   "execution_count": 23,
   "id": "c6d597f8-7405-43fc-bd3c-07186c706aa7",
   "metadata": {},
   "outputs": [
    {
     "name": "stdout",
     "output_type": "stream",
     "text": [
      "[[ True  True  True False]\n",
      " [ True  True  True False]]\n",
      "[1. 0. 2. 2. 5. 0.]\n"
     ]
    }
   ],
   "source": [
    "print(np.isfinite(x))\n",
    "print(x[np.isfinite(x)])"
   ]
  },
  {
   "cell_type": "markdown",
   "id": "3db4a28f-76ca-4c90-b3e1-8e771ee2c96d",
   "metadata": {
    "id": "FQsAY7O01GMy"
   },
   "source": [
    "E3: Create an array of 10 zeros,10 ones, 10 fives"
   ]
  },
  {
   "cell_type": "code",
   "execution_count": 21,
   "id": "b42300cd-03cb-421b-94b2-dea00961aa1f",
   "metadata": {},
   "outputs": [
    {
     "name": "stdout",
     "output_type": "stream",
     "text": [
      "[[0 1 5 0 1 5 0 1 5 0 1 5 0 1 5 0 1 5 0 1 5 0 1 5 0 1 5 0 1 5]]\n",
      "[0. 0. 0. 0. 0. 0. 0. 0. 0. 0. 1. 1. 1. 1. 1. 1. 1. 1. 1. 1. 5. 5. 5. 5.\n",
      " 5. 5. 5. 5. 5. 5.]\n"
     ]
    }
   ],
   "source": [
    "y=np.array([0,1,5])\n",
    "yy=np.tile(y,(1,10))\n",
    "\n",
    "print(yy)\n",
    "\n",
    "array0=np.zeros(10)\n",
    "array1=np.ones(10)\n",
    "array2=np.full(10,5)\n",
    "array3 = np.concatenate((array0, array1,array2))\n",
    "print(array3)"
   ]
  },
  {
   "cell_type": "markdown",
   "id": "f5b5a07d-726c-47c3-8f10-e98a08120ed6",
   "metadata": {
    "id": "YSWOA5LK1Rw9"
   },
   "source": [
    "E4: Create a 3x4 matrix filled with values from 10 to 21"
   ]
  },
  {
   "cell_type": "code",
   "execution_count": 5,
   "id": "bd6e0721-a42f-47c3-8806-b98980a8e070",
   "metadata": {},
   "outputs": [
    {
     "data": {
      "text/plain": [
       "array([[18, 14, 20, 20],\n",
       "       [11, 20, 18, 14],\n",
       "       [13, 19, 14, 19]])"
      ]
     },
     "execution_count": 5,
     "metadata": {},
     "output_type": "execute_result"
    }
   ],
   "source": [
    "x=np.random.randint(10,21,(3,4))\n",
    "x"
   ]
  },
  {
   "cell_type": "markdown",
   "id": "d868fa39-6d49-4070-865c-f1bf46af407d",
   "metadata": {
    "id": "yognO9wf2HxP"
   },
   "source": [
    "E5: Create a vector with values from 0 to 20 and change the sign of the numbers in the range from 9 to 15\n"
   ]
  },
  {
   "cell_type": "code",
   "execution_count": 7,
   "id": "99b070a2-534a-4c2a-97af-52700523dab5",
   "metadata": {},
   "outputs": [
    {
     "name": "stdout",
     "output_type": "stream",
     "text": [
      "[  0   1   2   3   4   5   6   7   8  -9 -10 -11 -12 -13 -14 -15  16  17\n",
      "  18  19  20]\n"
     ]
    }
   ],
   "source": [
    "x = np.arange(21)\n",
    "x[(x >= 9) & (x <= 15)] *= -1\n",
    "print(x)\n"
   ]
  },
  {
   "cell_type": "code",
   "execution_count": null,
   "id": "2be45cf3",
   "metadata": {},
   "outputs": [],
   "source": []
  }
 ],
 "metadata": {
  "kernelspec": {
   "display_name": "Python 3 (ipykernel)",
   "language": "python",
   "name": "python3"
  },
  "language_info": {
   "codemirror_mode": {
    "name": "ipython",
    "version": 3
   },
   "file_extension": ".py",
   "mimetype": "text/x-python",
   "name": "python",
   "nbconvert_exporter": "python",
   "pygments_lexer": "ipython3",
   "version": "3.11.3"
  }
 },
 "nbformat": 4,
 "nbformat_minor": 5
}
